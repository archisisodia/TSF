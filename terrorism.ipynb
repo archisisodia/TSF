{
  "nbformat": 4,
  "nbformat_minor": 0,
  "metadata": {
    "kernelspec": {
      "language": "python",
      "display_name": "Python 3",
      "name": "python3"
    },
    "language_info": {
      "pygments_lexer": "ipython3",
      "nbconvert_exporter": "python",
      "version": "3.6.4",
      "file_extension": ".py",
      "codemirror_mode": {
        "name": "ipython",
        "version": 3
      },
      "name": "python",
      "mimetype": "text/x-python"
    },
    "colab": {
      "name": "terrorism.ipynb",
      "provenance": [],
      "collapsed_sections": []
    }
  },
  "cells": [
    {
      "cell_type": "markdown",
      "metadata": {
        "id": "ZduTO4uXlyDh"
      },
      "source": [
        "##The Sparks Foundation (TSF)  Data Science & Business Analytics Internship.\n",
        "\n",
        "#**Exploratory data analysis - Terrorism**\n",
        "Dataset : [click here](https://bit.ly/2TK5Xn5)\n",
        "\n"
      ]
    },
    {
      "cell_type": "markdown",
      "metadata": {
        "id": "1j1VMMgUjSMm"
      },
      "source": [
        "# Importing Libraries"
      ]
    },
    {
      "cell_type": "code",
      "metadata": {
        "execution": {
          "iopub.status.busy": "2021-08-04T16:51:53.824766Z",
          "iopub.execute_input": "2021-08-04T16:51:53.825178Z",
          "iopub.status.idle": "2021-08-04T16:51:53.834726Z",
          "shell.execute_reply.started": "2021-08-04T16:51:53.825144Z",
          "shell.execute_reply": "2021-08-04T16:51:53.833568Z"
        },
        "trusted": true,
        "id": "GpMbb7iajSMn"
      },
      "source": [
        "import pandas as pd\n",
        "import matplotlib.pyplot as plt\n",
        "%matplotlib inline\n",
        "import seaborn as sns\n",
        "import warnings\n",
        "warnings.filterwarnings(\"ignore\")"
      ],
      "execution_count": 1,
      "outputs": []
    },
    {
      "cell_type": "markdown",
      "metadata": {
        "id": "Efv4XL40jSMw"
      },
      "source": [
        "# Importing Dataset"
      ]
    },
    {
      "cell_type": "code",
      "metadata": {
        "execution": {
          "iopub.status.busy": "2021-08-04T16:51:53.839338Z",
          "iopub.execute_input": "2021-08-04T16:51:53.839812Z",
          "iopub.status.idle": "2021-08-04T16:51:57.868225Z",
          "shell.execute_reply.started": "2021-08-04T16:51:53.839745Z",
          "shell.execute_reply": "2021-08-04T16:51:57.866728Z"
        },
        "trusted": true,
        "colab": {
          "base_uri": "https://localhost:8080/",
          "height": 372
        },
        "id": "asz0BpIwjSMx",
        "outputId": "e1432b72-dd32-4a3f-bc0d-60b727a06187"
      },
      "source": [
        "file_name = '/content/drive/MyDrive/Global Terrorism - START data/globalterrorismdb_0718dist.csv'\n",
        "df = pd.read_csv(file_name, encoding = 'ISO-8859-1')\n",
        "df.head()"
      ],
      "execution_count": 2,
      "outputs": [
        {
          "output_type": "execute_result",
          "data": {
            "text/html": [
              "<div>\n",
              "<style scoped>\n",
              "    .dataframe tbody tr th:only-of-type {\n",
              "        vertical-align: middle;\n",
              "    }\n",
              "\n",
              "    .dataframe tbody tr th {\n",
              "        vertical-align: top;\n",
              "    }\n",
              "\n",
              "    .dataframe thead th {\n",
              "        text-align: right;\n",
              "    }\n",
              "</style>\n",
              "<table border=\"1\" class=\"dataframe\">\n",
              "  <thead>\n",
              "    <tr style=\"text-align: right;\">\n",
              "      <th></th>\n",
              "      <th>eventid</th>\n",
              "      <th>iyear</th>\n",
              "      <th>imonth</th>\n",
              "      <th>iday</th>\n",
              "      <th>approxdate</th>\n",
              "      <th>extended</th>\n",
              "      <th>resolution</th>\n",
              "      <th>country</th>\n",
              "      <th>country_txt</th>\n",
              "      <th>region</th>\n",
              "      <th>region_txt</th>\n",
              "      <th>provstate</th>\n",
              "      <th>city</th>\n",
              "      <th>latitude</th>\n",
              "      <th>longitude</th>\n",
              "      <th>specificity</th>\n",
              "      <th>vicinity</th>\n",
              "      <th>location</th>\n",
              "      <th>summary</th>\n",
              "      <th>crit1</th>\n",
              "      <th>crit2</th>\n",
              "      <th>crit3</th>\n",
              "      <th>doubtterr</th>\n",
              "      <th>alternative</th>\n",
              "      <th>alternative_txt</th>\n",
              "      <th>multiple</th>\n",
              "      <th>success</th>\n",
              "      <th>suicide</th>\n",
              "      <th>attacktype1</th>\n",
              "      <th>attacktype1_txt</th>\n",
              "      <th>attacktype2</th>\n",
              "      <th>attacktype2_txt</th>\n",
              "      <th>attacktype3</th>\n",
              "      <th>attacktype3_txt</th>\n",
              "      <th>targtype1</th>\n",
              "      <th>targtype1_txt</th>\n",
              "      <th>targsubtype1</th>\n",
              "      <th>targsubtype1_txt</th>\n",
              "      <th>corp1</th>\n",
              "      <th>target1</th>\n",
              "      <th>...</th>\n",
              "      <th>weapsubtype4</th>\n",
              "      <th>weapsubtype4_txt</th>\n",
              "      <th>weapdetail</th>\n",
              "      <th>nkill</th>\n",
              "      <th>nkillus</th>\n",
              "      <th>nkillter</th>\n",
              "      <th>nwound</th>\n",
              "      <th>nwoundus</th>\n",
              "      <th>nwoundte</th>\n",
              "      <th>property</th>\n",
              "      <th>propextent</th>\n",
              "      <th>propextent_txt</th>\n",
              "      <th>propvalue</th>\n",
              "      <th>propcomment</th>\n",
              "      <th>ishostkid</th>\n",
              "      <th>nhostkid</th>\n",
              "      <th>nhostkidus</th>\n",
              "      <th>nhours</th>\n",
              "      <th>ndays</th>\n",
              "      <th>divert</th>\n",
              "      <th>kidhijcountry</th>\n",
              "      <th>ransom</th>\n",
              "      <th>ransomamt</th>\n",
              "      <th>ransomamtus</th>\n",
              "      <th>ransompaid</th>\n",
              "      <th>ransompaidus</th>\n",
              "      <th>ransomnote</th>\n",
              "      <th>hostkidoutcome</th>\n",
              "      <th>hostkidoutcome_txt</th>\n",
              "      <th>nreleased</th>\n",
              "      <th>addnotes</th>\n",
              "      <th>scite1</th>\n",
              "      <th>scite2</th>\n",
              "      <th>scite3</th>\n",
              "      <th>dbsource</th>\n",
              "      <th>INT_LOG</th>\n",
              "      <th>INT_IDEO</th>\n",
              "      <th>INT_MISC</th>\n",
              "      <th>INT_ANY</th>\n",
              "      <th>related</th>\n",
              "    </tr>\n",
              "  </thead>\n",
              "  <tbody>\n",
              "    <tr>\n",
              "      <th>0</th>\n",
              "      <td>197000000001</td>\n",
              "      <td>1970</td>\n",
              "      <td>7</td>\n",
              "      <td>2</td>\n",
              "      <td>NaN</td>\n",
              "      <td>0</td>\n",
              "      <td>NaN</td>\n",
              "      <td>58</td>\n",
              "      <td>Dominican Republic</td>\n",
              "      <td>2</td>\n",
              "      <td>Central America &amp; Caribbean</td>\n",
              "      <td>NaN</td>\n",
              "      <td>Santo Domingo</td>\n",
              "      <td>18.456792</td>\n",
              "      <td>-69.951164</td>\n",
              "      <td>1.0</td>\n",
              "      <td>0</td>\n",
              "      <td>NaN</td>\n",
              "      <td>NaN</td>\n",
              "      <td>1</td>\n",
              "      <td>1</td>\n",
              "      <td>1</td>\n",
              "      <td>0.0</td>\n",
              "      <td>NaN</td>\n",
              "      <td>NaN</td>\n",
              "      <td>0.0</td>\n",
              "      <td>1</td>\n",
              "      <td>0</td>\n",
              "      <td>1</td>\n",
              "      <td>Assassination</td>\n",
              "      <td>NaN</td>\n",
              "      <td>NaN</td>\n",
              "      <td>NaN</td>\n",
              "      <td>NaN</td>\n",
              "      <td>14</td>\n",
              "      <td>Private Citizens &amp; Property</td>\n",
              "      <td>68.0</td>\n",
              "      <td>Named Civilian</td>\n",
              "      <td>NaN</td>\n",
              "      <td>Julio Guzman</td>\n",
              "      <td>...</td>\n",
              "      <td>NaN</td>\n",
              "      <td>NaN</td>\n",
              "      <td>NaN</td>\n",
              "      <td>1.0</td>\n",
              "      <td>NaN</td>\n",
              "      <td>NaN</td>\n",
              "      <td>0.0</td>\n",
              "      <td>NaN</td>\n",
              "      <td>NaN</td>\n",
              "      <td>0</td>\n",
              "      <td>NaN</td>\n",
              "      <td>NaN</td>\n",
              "      <td>NaN</td>\n",
              "      <td>NaN</td>\n",
              "      <td>0.0</td>\n",
              "      <td>NaN</td>\n",
              "      <td>NaN</td>\n",
              "      <td>NaN</td>\n",
              "      <td>NaN</td>\n",
              "      <td>NaN</td>\n",
              "      <td>NaN</td>\n",
              "      <td>0.0</td>\n",
              "      <td>NaN</td>\n",
              "      <td>NaN</td>\n",
              "      <td>NaN</td>\n",
              "      <td>NaN</td>\n",
              "      <td>NaN</td>\n",
              "      <td>NaN</td>\n",
              "      <td>NaN</td>\n",
              "      <td>NaN</td>\n",
              "      <td>NaN</td>\n",
              "      <td>NaN</td>\n",
              "      <td>NaN</td>\n",
              "      <td>NaN</td>\n",
              "      <td>PGIS</td>\n",
              "      <td>0</td>\n",
              "      <td>0</td>\n",
              "      <td>0</td>\n",
              "      <td>0</td>\n",
              "      <td>NaN</td>\n",
              "    </tr>\n",
              "    <tr>\n",
              "      <th>1</th>\n",
              "      <td>197000000002</td>\n",
              "      <td>1970</td>\n",
              "      <td>0</td>\n",
              "      <td>0</td>\n",
              "      <td>NaN</td>\n",
              "      <td>0</td>\n",
              "      <td>NaN</td>\n",
              "      <td>130</td>\n",
              "      <td>Mexico</td>\n",
              "      <td>1</td>\n",
              "      <td>North America</td>\n",
              "      <td>Federal</td>\n",
              "      <td>Mexico city</td>\n",
              "      <td>19.371887</td>\n",
              "      <td>-99.086624</td>\n",
              "      <td>1.0</td>\n",
              "      <td>0</td>\n",
              "      <td>NaN</td>\n",
              "      <td>NaN</td>\n",
              "      <td>1</td>\n",
              "      <td>1</td>\n",
              "      <td>1</td>\n",
              "      <td>0.0</td>\n",
              "      <td>NaN</td>\n",
              "      <td>NaN</td>\n",
              "      <td>0.0</td>\n",
              "      <td>1</td>\n",
              "      <td>0</td>\n",
              "      <td>6</td>\n",
              "      <td>Hostage Taking (Kidnapping)</td>\n",
              "      <td>NaN</td>\n",
              "      <td>NaN</td>\n",
              "      <td>NaN</td>\n",
              "      <td>NaN</td>\n",
              "      <td>7</td>\n",
              "      <td>Government (Diplomatic)</td>\n",
              "      <td>45.0</td>\n",
              "      <td>Diplomatic Personnel (outside of embassy, cons...</td>\n",
              "      <td>Belgian Ambassador Daughter</td>\n",
              "      <td>Nadine Chaval, daughter</td>\n",
              "      <td>...</td>\n",
              "      <td>NaN</td>\n",
              "      <td>NaN</td>\n",
              "      <td>NaN</td>\n",
              "      <td>0.0</td>\n",
              "      <td>NaN</td>\n",
              "      <td>NaN</td>\n",
              "      <td>0.0</td>\n",
              "      <td>NaN</td>\n",
              "      <td>NaN</td>\n",
              "      <td>0</td>\n",
              "      <td>NaN</td>\n",
              "      <td>NaN</td>\n",
              "      <td>NaN</td>\n",
              "      <td>NaN</td>\n",
              "      <td>1.0</td>\n",
              "      <td>1.0</td>\n",
              "      <td>0.0</td>\n",
              "      <td>NaN</td>\n",
              "      <td>NaN</td>\n",
              "      <td>NaN</td>\n",
              "      <td>Mexico</td>\n",
              "      <td>1.0</td>\n",
              "      <td>800000.0</td>\n",
              "      <td>NaN</td>\n",
              "      <td>NaN</td>\n",
              "      <td>NaN</td>\n",
              "      <td>NaN</td>\n",
              "      <td>NaN</td>\n",
              "      <td>NaN</td>\n",
              "      <td>NaN</td>\n",
              "      <td>NaN</td>\n",
              "      <td>NaN</td>\n",
              "      <td>NaN</td>\n",
              "      <td>NaN</td>\n",
              "      <td>PGIS</td>\n",
              "      <td>0</td>\n",
              "      <td>1</td>\n",
              "      <td>1</td>\n",
              "      <td>1</td>\n",
              "      <td>NaN</td>\n",
              "    </tr>\n",
              "    <tr>\n",
              "      <th>2</th>\n",
              "      <td>197001000001</td>\n",
              "      <td>1970</td>\n",
              "      <td>1</td>\n",
              "      <td>0</td>\n",
              "      <td>NaN</td>\n",
              "      <td>0</td>\n",
              "      <td>NaN</td>\n",
              "      <td>160</td>\n",
              "      <td>Philippines</td>\n",
              "      <td>5</td>\n",
              "      <td>Southeast Asia</td>\n",
              "      <td>Tarlac</td>\n",
              "      <td>Unknown</td>\n",
              "      <td>15.478598</td>\n",
              "      <td>120.599741</td>\n",
              "      <td>4.0</td>\n",
              "      <td>0</td>\n",
              "      <td>NaN</td>\n",
              "      <td>NaN</td>\n",
              "      <td>1</td>\n",
              "      <td>1</td>\n",
              "      <td>1</td>\n",
              "      <td>0.0</td>\n",
              "      <td>NaN</td>\n",
              "      <td>NaN</td>\n",
              "      <td>0.0</td>\n",
              "      <td>1</td>\n",
              "      <td>0</td>\n",
              "      <td>1</td>\n",
              "      <td>Assassination</td>\n",
              "      <td>NaN</td>\n",
              "      <td>NaN</td>\n",
              "      <td>NaN</td>\n",
              "      <td>NaN</td>\n",
              "      <td>10</td>\n",
              "      <td>Journalists &amp; Media</td>\n",
              "      <td>54.0</td>\n",
              "      <td>Radio Journalist/Staff/Facility</td>\n",
              "      <td>Voice of America</td>\n",
              "      <td>Employee</td>\n",
              "      <td>...</td>\n",
              "      <td>NaN</td>\n",
              "      <td>NaN</td>\n",
              "      <td>NaN</td>\n",
              "      <td>1.0</td>\n",
              "      <td>NaN</td>\n",
              "      <td>NaN</td>\n",
              "      <td>0.0</td>\n",
              "      <td>NaN</td>\n",
              "      <td>NaN</td>\n",
              "      <td>0</td>\n",
              "      <td>NaN</td>\n",
              "      <td>NaN</td>\n",
              "      <td>NaN</td>\n",
              "      <td>NaN</td>\n",
              "      <td>0.0</td>\n",
              "      <td>NaN</td>\n",
              "      <td>NaN</td>\n",
              "      <td>NaN</td>\n",
              "      <td>NaN</td>\n",
              "      <td>NaN</td>\n",
              "      <td>NaN</td>\n",
              "      <td>0.0</td>\n",
              "      <td>NaN</td>\n",
              "      <td>NaN</td>\n",
              "      <td>NaN</td>\n",
              "      <td>NaN</td>\n",
              "      <td>NaN</td>\n",
              "      <td>NaN</td>\n",
              "      <td>NaN</td>\n",
              "      <td>NaN</td>\n",
              "      <td>NaN</td>\n",
              "      <td>NaN</td>\n",
              "      <td>NaN</td>\n",
              "      <td>NaN</td>\n",
              "      <td>PGIS</td>\n",
              "      <td>-9</td>\n",
              "      <td>-9</td>\n",
              "      <td>1</td>\n",
              "      <td>1</td>\n",
              "      <td>NaN</td>\n",
              "    </tr>\n",
              "    <tr>\n",
              "      <th>3</th>\n",
              "      <td>197001000002</td>\n",
              "      <td>1970</td>\n",
              "      <td>1</td>\n",
              "      <td>0</td>\n",
              "      <td>NaN</td>\n",
              "      <td>0</td>\n",
              "      <td>NaN</td>\n",
              "      <td>78</td>\n",
              "      <td>Greece</td>\n",
              "      <td>8</td>\n",
              "      <td>Western Europe</td>\n",
              "      <td>Attica</td>\n",
              "      <td>Athens</td>\n",
              "      <td>37.997490</td>\n",
              "      <td>23.762728</td>\n",
              "      <td>1.0</td>\n",
              "      <td>0</td>\n",
              "      <td>NaN</td>\n",
              "      <td>NaN</td>\n",
              "      <td>1</td>\n",
              "      <td>1</td>\n",
              "      <td>1</td>\n",
              "      <td>0.0</td>\n",
              "      <td>NaN</td>\n",
              "      <td>NaN</td>\n",
              "      <td>0.0</td>\n",
              "      <td>1</td>\n",
              "      <td>0</td>\n",
              "      <td>3</td>\n",
              "      <td>Bombing/Explosion</td>\n",
              "      <td>NaN</td>\n",
              "      <td>NaN</td>\n",
              "      <td>NaN</td>\n",
              "      <td>NaN</td>\n",
              "      <td>7</td>\n",
              "      <td>Government (Diplomatic)</td>\n",
              "      <td>46.0</td>\n",
              "      <td>Embassy/Consulate</td>\n",
              "      <td>NaN</td>\n",
              "      <td>U.S. Embassy</td>\n",
              "      <td>...</td>\n",
              "      <td>NaN</td>\n",
              "      <td>NaN</td>\n",
              "      <td>Explosive</td>\n",
              "      <td>NaN</td>\n",
              "      <td>NaN</td>\n",
              "      <td>NaN</td>\n",
              "      <td>NaN</td>\n",
              "      <td>NaN</td>\n",
              "      <td>NaN</td>\n",
              "      <td>1</td>\n",
              "      <td>NaN</td>\n",
              "      <td>NaN</td>\n",
              "      <td>NaN</td>\n",
              "      <td>NaN</td>\n",
              "      <td>0.0</td>\n",
              "      <td>NaN</td>\n",
              "      <td>NaN</td>\n",
              "      <td>NaN</td>\n",
              "      <td>NaN</td>\n",
              "      <td>NaN</td>\n",
              "      <td>NaN</td>\n",
              "      <td>0.0</td>\n",
              "      <td>NaN</td>\n",
              "      <td>NaN</td>\n",
              "      <td>NaN</td>\n",
              "      <td>NaN</td>\n",
              "      <td>NaN</td>\n",
              "      <td>NaN</td>\n",
              "      <td>NaN</td>\n",
              "      <td>NaN</td>\n",
              "      <td>NaN</td>\n",
              "      <td>NaN</td>\n",
              "      <td>NaN</td>\n",
              "      <td>NaN</td>\n",
              "      <td>PGIS</td>\n",
              "      <td>-9</td>\n",
              "      <td>-9</td>\n",
              "      <td>1</td>\n",
              "      <td>1</td>\n",
              "      <td>NaN</td>\n",
              "    </tr>\n",
              "    <tr>\n",
              "      <th>4</th>\n",
              "      <td>197001000003</td>\n",
              "      <td>1970</td>\n",
              "      <td>1</td>\n",
              "      <td>0</td>\n",
              "      <td>NaN</td>\n",
              "      <td>0</td>\n",
              "      <td>NaN</td>\n",
              "      <td>101</td>\n",
              "      <td>Japan</td>\n",
              "      <td>4</td>\n",
              "      <td>East Asia</td>\n",
              "      <td>Fukouka</td>\n",
              "      <td>Fukouka</td>\n",
              "      <td>33.580412</td>\n",
              "      <td>130.396361</td>\n",
              "      <td>1.0</td>\n",
              "      <td>0</td>\n",
              "      <td>NaN</td>\n",
              "      <td>NaN</td>\n",
              "      <td>1</td>\n",
              "      <td>1</td>\n",
              "      <td>1</td>\n",
              "      <td>-9.0</td>\n",
              "      <td>NaN</td>\n",
              "      <td>NaN</td>\n",
              "      <td>0.0</td>\n",
              "      <td>1</td>\n",
              "      <td>0</td>\n",
              "      <td>7</td>\n",
              "      <td>Facility/Infrastructure Attack</td>\n",
              "      <td>NaN</td>\n",
              "      <td>NaN</td>\n",
              "      <td>NaN</td>\n",
              "      <td>NaN</td>\n",
              "      <td>7</td>\n",
              "      <td>Government (Diplomatic)</td>\n",
              "      <td>46.0</td>\n",
              "      <td>Embassy/Consulate</td>\n",
              "      <td>NaN</td>\n",
              "      <td>U.S. Consulate</td>\n",
              "      <td>...</td>\n",
              "      <td>NaN</td>\n",
              "      <td>NaN</td>\n",
              "      <td>Incendiary</td>\n",
              "      <td>NaN</td>\n",
              "      <td>NaN</td>\n",
              "      <td>NaN</td>\n",
              "      <td>NaN</td>\n",
              "      <td>NaN</td>\n",
              "      <td>NaN</td>\n",
              "      <td>1</td>\n",
              "      <td>NaN</td>\n",
              "      <td>NaN</td>\n",
              "      <td>NaN</td>\n",
              "      <td>NaN</td>\n",
              "      <td>0.0</td>\n",
              "      <td>NaN</td>\n",
              "      <td>NaN</td>\n",
              "      <td>NaN</td>\n",
              "      <td>NaN</td>\n",
              "      <td>NaN</td>\n",
              "      <td>NaN</td>\n",
              "      <td>0.0</td>\n",
              "      <td>NaN</td>\n",
              "      <td>NaN</td>\n",
              "      <td>NaN</td>\n",
              "      <td>NaN</td>\n",
              "      <td>NaN</td>\n",
              "      <td>NaN</td>\n",
              "      <td>NaN</td>\n",
              "      <td>NaN</td>\n",
              "      <td>NaN</td>\n",
              "      <td>NaN</td>\n",
              "      <td>NaN</td>\n",
              "      <td>NaN</td>\n",
              "      <td>PGIS</td>\n",
              "      <td>-9</td>\n",
              "      <td>-9</td>\n",
              "      <td>1</td>\n",
              "      <td>1</td>\n",
              "      <td>NaN</td>\n",
              "    </tr>\n",
              "  </tbody>\n",
              "</table>\n",
              "<p>5 rows × 135 columns</p>\n",
              "</div>"
            ],
            "text/plain": [
              "        eventid  iyear  imonth  iday  ... INT_IDEO  INT_MISC INT_ANY  related\n",
              "0  197000000001   1970       7     2  ...        0         0       0      NaN\n",
              "1  197000000002   1970       0     0  ...        1         1       1      NaN\n",
              "2  197001000001   1970       1     0  ...       -9         1       1      NaN\n",
              "3  197001000002   1970       1     0  ...       -9         1       1      NaN\n",
              "4  197001000003   1970       1     0  ...       -9         1       1      NaN\n",
              "\n",
              "[5 rows x 135 columns]"
            ]
          },
          "metadata": {},
          "execution_count": 2
        }
      ]
    },
    {
      "cell_type": "code",
      "metadata": {
        "execution": {
          "iopub.status.busy": "2021-08-04T16:51:57.870146Z",
          "iopub.execute_input": "2021-08-04T16:51:57.87065Z",
          "iopub.status.idle": "2021-08-04T16:51:57.880161Z",
          "shell.execute_reply.started": "2021-08-04T16:51:57.870604Z",
          "shell.execute_reply": "2021-08-04T16:51:57.879042Z"
        },
        "trusted": true,
        "colab": {
          "base_uri": "https://localhost:8080/"
        },
        "id": "aRrRw4jmjSMy",
        "outputId": "d7fef2b3-2105-4834-9bff-0625b37748d9"
      },
      "source": [
        "df.columns.values "
      ],
      "execution_count": 3,
      "outputs": [
        {
          "output_type": "execute_result",
          "data": {
            "text/plain": [
              "array(['eventid', 'iyear', 'imonth', 'iday', 'approxdate', 'extended',\n",
              "       'resolution', 'country', 'country_txt', 'region', 'region_txt',\n",
              "       'provstate', 'city', 'latitude', 'longitude', 'specificity',\n",
              "       'vicinity', 'location', 'summary', 'crit1', 'crit2', 'crit3',\n",
              "       'doubtterr', 'alternative', 'alternative_txt', 'multiple',\n",
              "       'success', 'suicide', 'attacktype1', 'attacktype1_txt',\n",
              "       'attacktype2', 'attacktype2_txt', 'attacktype3', 'attacktype3_txt',\n",
              "       'targtype1', 'targtype1_txt', 'targsubtype1', 'targsubtype1_txt',\n",
              "       'corp1', 'target1', 'natlty1', 'natlty1_txt', 'targtype2',\n",
              "       'targtype2_txt', 'targsubtype2', 'targsubtype2_txt', 'corp2',\n",
              "       'target2', 'natlty2', 'natlty2_txt', 'targtype3', 'targtype3_txt',\n",
              "       'targsubtype3', 'targsubtype3_txt', 'corp3', 'target3', 'natlty3',\n",
              "       'natlty3_txt', 'gname', 'gsubname', 'gname2', 'gsubname2',\n",
              "       'gname3', 'gsubname3', 'motive', 'guncertain1', 'guncertain2',\n",
              "       'guncertain3', 'individual', 'nperps', 'nperpcap', 'claimed',\n",
              "       'claimmode', 'claimmode_txt', 'claim2', 'claimmode2',\n",
              "       'claimmode2_txt', 'claim3', 'claimmode3', 'claimmode3_txt',\n",
              "       'compclaim', 'weaptype1', 'weaptype1_txt', 'weapsubtype1',\n",
              "       'weapsubtype1_txt', 'weaptype2', 'weaptype2_txt', 'weapsubtype2',\n",
              "       'weapsubtype2_txt', 'weaptype3', 'weaptype3_txt', 'weapsubtype3',\n",
              "       'weapsubtype3_txt', 'weaptype4', 'weaptype4_txt', 'weapsubtype4',\n",
              "       'weapsubtype4_txt', 'weapdetail', 'nkill', 'nkillus', 'nkillter',\n",
              "       'nwound', 'nwoundus', 'nwoundte', 'property', 'propextent',\n",
              "       'propextent_txt', 'propvalue', 'propcomment', 'ishostkid',\n",
              "       'nhostkid', 'nhostkidus', 'nhours', 'ndays', 'divert',\n",
              "       'kidhijcountry', 'ransom', 'ransomamt', 'ransomamtus',\n",
              "       'ransompaid', 'ransompaidus', 'ransomnote', 'hostkidoutcome',\n",
              "       'hostkidoutcome_txt', 'nreleased', 'addnotes', 'scite1', 'scite2',\n",
              "       'scite3', 'dbsource', 'INT_LOG', 'INT_IDEO', 'INT_MISC', 'INT_ANY',\n",
              "       'related'], dtype=object)"
            ]
          },
          "metadata": {},
          "execution_count": 3
        }
      ]
    },
    {
      "cell_type": "code",
      "metadata": {
        "execution": {
          "iopub.status.busy": "2021-08-04T16:51:57.882661Z",
          "iopub.execute_input": "2021-08-04T16:51:57.883422Z",
          "iopub.status.idle": "2021-08-04T16:51:57.8963Z",
          "shell.execute_reply.started": "2021-08-04T16:51:57.883371Z",
          "shell.execute_reply": "2021-08-04T16:51:57.895168Z"
        },
        "trusted": true,
        "id": "003VrFZZjSMz"
      },
      "source": [
        "#Rename the data columns\n",
        "df.rename(columns={'iyear':'Year','imonth':'Month','iday':\"day\",'gname':'Group','country_txt':'Country','region_txt':'Region','provstate':'State','city':'City','latitude':'latitude',\n",
        "    'longitude':'longitude','summary':'summary','attacktype1_txt':'Attacktype','targtype1_txt':'Targettype','weaptype1_txt':'Weapon','nkill':'kill',\n",
        "     'nwound':'Wound'},inplace=True)"
      ],
      "execution_count": 4,
      "outputs": []
    },
    {
      "cell_type": "code",
      "metadata": {
        "colab": {
          "base_uri": "https://localhost:8080/"
        },
        "id": "Pzd8h_D1lA_A",
        "outputId": "8a6033e1-7ba3-486e-f07d-ae79c13610c5"
      },
      "source": [
        "df.columns"
      ],
      "execution_count": 5,
      "outputs": [
        {
          "output_type": "execute_result",
          "data": {
            "text/plain": [
              "Index(['eventid', 'Year', 'Month', 'day', 'approxdate', 'extended',\n",
              "       'resolution', 'country', 'Country', 'region',\n",
              "       ...\n",
              "       'addnotes', 'scite1', 'scite2', 'scite3', 'dbsource', 'INT_LOG',\n",
              "       'INT_IDEO', 'INT_MISC', 'INT_ANY', 'related'],\n",
              "      dtype='object', length=135)"
            ]
          },
          "metadata": {},
          "execution_count": 5
        }
      ]
    },
    {
      "cell_type": "code",
      "metadata": {
        "execution": {
          "iopub.status.busy": "2021-08-04T16:51:57.926332Z",
          "iopub.execute_input": "2021-08-04T16:51:57.927053Z",
          "iopub.status.idle": "2021-08-04T16:51:57.959783Z",
          "shell.execute_reply.started": "2021-08-04T16:51:57.927014Z",
          "shell.execute_reply": "2021-08-04T16:51:57.958755Z"
        },
        "trusted": true,
        "id": "C9qQoN_6jSM6"
      },
      "source": [
        "#will take only those columns in consideration which are necessary for our  analysis\n",
        "df = df[['Year','Month','day','Country','State','Region','City','latitude','longitude',\"Attacktype\",\n",
        "         'kill','Wound','target1','summary','Group','Targettype','Weapon','motive']]"
      ],
      "execution_count": 6,
      "outputs": []
    },
    {
      "cell_type": "code",
      "metadata": {
        "execution": {
          "iopub.status.busy": "2021-08-04T16:51:57.961185Z",
          "iopub.execute_input": "2021-08-04T16:51:57.961498Z",
          "iopub.status.idle": "2021-08-04T16:51:57.9865Z",
          "shell.execute_reply.started": "2021-08-04T16:51:57.961467Z",
          "shell.execute_reply": "2021-08-04T16:51:57.985482Z"
        },
        "trusted": true,
        "colab": {
          "base_uri": "https://localhost:8080/",
          "height": 360
        },
        "id": "r2YUGnz-jSM8",
        "outputId": "05edaffc-b13f-456d-e3c5-59b0f3062e3a"
      },
      "source": [
        "df.head()"
      ],
      "execution_count": 7,
      "outputs": [
        {
          "output_type": "execute_result",
          "data": {
            "text/html": [
              "<div>\n",
              "<style scoped>\n",
              "    .dataframe tbody tr th:only-of-type {\n",
              "        vertical-align: middle;\n",
              "    }\n",
              "\n",
              "    .dataframe tbody tr th {\n",
              "        vertical-align: top;\n",
              "    }\n",
              "\n",
              "    .dataframe thead th {\n",
              "        text-align: right;\n",
              "    }\n",
              "</style>\n",
              "<table border=\"1\" class=\"dataframe\">\n",
              "  <thead>\n",
              "    <tr style=\"text-align: right;\">\n",
              "      <th></th>\n",
              "      <th>Year</th>\n",
              "      <th>Month</th>\n",
              "      <th>day</th>\n",
              "      <th>Country</th>\n",
              "      <th>State</th>\n",
              "      <th>Region</th>\n",
              "      <th>City</th>\n",
              "      <th>latitude</th>\n",
              "      <th>longitude</th>\n",
              "      <th>Attacktype</th>\n",
              "      <th>kill</th>\n",
              "      <th>Wound</th>\n",
              "      <th>target1</th>\n",
              "      <th>summary</th>\n",
              "      <th>Group</th>\n",
              "      <th>Targettype</th>\n",
              "      <th>Weapon</th>\n",
              "      <th>motive</th>\n",
              "    </tr>\n",
              "  </thead>\n",
              "  <tbody>\n",
              "    <tr>\n",
              "      <th>0</th>\n",
              "      <td>1970</td>\n",
              "      <td>7</td>\n",
              "      <td>2</td>\n",
              "      <td>Dominican Republic</td>\n",
              "      <td>NaN</td>\n",
              "      <td>Central America &amp; Caribbean</td>\n",
              "      <td>Santo Domingo</td>\n",
              "      <td>18.456792</td>\n",
              "      <td>-69.951164</td>\n",
              "      <td>Assassination</td>\n",
              "      <td>1.0</td>\n",
              "      <td>0.0</td>\n",
              "      <td>Julio Guzman</td>\n",
              "      <td>NaN</td>\n",
              "      <td>MANO-D</td>\n",
              "      <td>Private Citizens &amp; Property</td>\n",
              "      <td>Unknown</td>\n",
              "      <td>NaN</td>\n",
              "    </tr>\n",
              "    <tr>\n",
              "      <th>1</th>\n",
              "      <td>1970</td>\n",
              "      <td>0</td>\n",
              "      <td>0</td>\n",
              "      <td>Mexico</td>\n",
              "      <td>Federal</td>\n",
              "      <td>North America</td>\n",
              "      <td>Mexico city</td>\n",
              "      <td>19.371887</td>\n",
              "      <td>-99.086624</td>\n",
              "      <td>Hostage Taking (Kidnapping)</td>\n",
              "      <td>0.0</td>\n",
              "      <td>0.0</td>\n",
              "      <td>Nadine Chaval, daughter</td>\n",
              "      <td>NaN</td>\n",
              "      <td>23rd of September Communist League</td>\n",
              "      <td>Government (Diplomatic)</td>\n",
              "      <td>Unknown</td>\n",
              "      <td>NaN</td>\n",
              "    </tr>\n",
              "    <tr>\n",
              "      <th>2</th>\n",
              "      <td>1970</td>\n",
              "      <td>1</td>\n",
              "      <td>0</td>\n",
              "      <td>Philippines</td>\n",
              "      <td>Tarlac</td>\n",
              "      <td>Southeast Asia</td>\n",
              "      <td>Unknown</td>\n",
              "      <td>15.478598</td>\n",
              "      <td>120.599741</td>\n",
              "      <td>Assassination</td>\n",
              "      <td>1.0</td>\n",
              "      <td>0.0</td>\n",
              "      <td>Employee</td>\n",
              "      <td>NaN</td>\n",
              "      <td>Unknown</td>\n",
              "      <td>Journalists &amp; Media</td>\n",
              "      <td>Unknown</td>\n",
              "      <td>NaN</td>\n",
              "    </tr>\n",
              "    <tr>\n",
              "      <th>3</th>\n",
              "      <td>1970</td>\n",
              "      <td>1</td>\n",
              "      <td>0</td>\n",
              "      <td>Greece</td>\n",
              "      <td>Attica</td>\n",
              "      <td>Western Europe</td>\n",
              "      <td>Athens</td>\n",
              "      <td>37.997490</td>\n",
              "      <td>23.762728</td>\n",
              "      <td>Bombing/Explosion</td>\n",
              "      <td>NaN</td>\n",
              "      <td>NaN</td>\n",
              "      <td>U.S. Embassy</td>\n",
              "      <td>NaN</td>\n",
              "      <td>Unknown</td>\n",
              "      <td>Government (Diplomatic)</td>\n",
              "      <td>Explosives</td>\n",
              "      <td>NaN</td>\n",
              "    </tr>\n",
              "    <tr>\n",
              "      <th>4</th>\n",
              "      <td>1970</td>\n",
              "      <td>1</td>\n",
              "      <td>0</td>\n",
              "      <td>Japan</td>\n",
              "      <td>Fukouka</td>\n",
              "      <td>East Asia</td>\n",
              "      <td>Fukouka</td>\n",
              "      <td>33.580412</td>\n",
              "      <td>130.396361</td>\n",
              "      <td>Facility/Infrastructure Attack</td>\n",
              "      <td>NaN</td>\n",
              "      <td>NaN</td>\n",
              "      <td>U.S. Consulate</td>\n",
              "      <td>NaN</td>\n",
              "      <td>Unknown</td>\n",
              "      <td>Government (Diplomatic)</td>\n",
              "      <td>Incendiary</td>\n",
              "      <td>NaN</td>\n",
              "    </tr>\n",
              "  </tbody>\n",
              "</table>\n",
              "</div>"
            ],
            "text/plain": [
              "   Year  Month  day  ...                   Targettype      Weapon motive\n",
              "0  1970      7    2  ...  Private Citizens & Property     Unknown    NaN\n",
              "1  1970      0    0  ...      Government (Diplomatic)     Unknown    NaN\n",
              "2  1970      1    0  ...          Journalists & Media     Unknown    NaN\n",
              "3  1970      1    0  ...      Government (Diplomatic)  Explosives    NaN\n",
              "4  1970      1    0  ...      Government (Diplomatic)  Incendiary    NaN\n",
              "\n",
              "[5 rows x 18 columns]"
            ]
          },
          "metadata": {},
          "execution_count": 7
        }
      ]
    },
    {
      "cell_type": "code",
      "metadata": {
        "execution": {
          "iopub.status.busy": "2021-08-04T16:51:57.988013Z",
          "iopub.execute_input": "2021-08-04T16:51:57.988521Z",
          "iopub.status.idle": "2021-08-04T16:51:58.201027Z",
          "shell.execute_reply.started": "2021-08-04T16:51:57.988483Z",
          "shell.execute_reply": "2021-08-04T16:51:58.199771Z"
        },
        "trusted": true,
        "colab": {
          "base_uri": "https://localhost:8080/"
        },
        "id": "4O5xIUIrjSM9",
        "outputId": "c27d53bd-95a5-42a9-ac31-72195ec4defd"
      },
      "source": [
        "df.shape"
      ],
      "execution_count": 8,
      "outputs": [
        {
          "output_type": "execute_result",
          "data": {
            "text/plain": [
              "(181691, 18)"
            ]
          },
          "metadata": {},
          "execution_count": 8
        }
      ]
    },
    {
      "cell_type": "markdown",
      "metadata": {
        "id": "eTxhEQkbjSM-"
      },
      "source": [
        "## Data Cleaning "
      ]
    },
    {
      "cell_type": "code",
      "metadata": {
        "execution": {
          "iopub.status.busy": "2021-08-04T16:51:58.204149Z",
          "iopub.execute_input": "2021-08-04T16:51:58.204583Z",
          "iopub.status.idle": "2021-08-04T16:51:58.41099Z",
          "shell.execute_reply.started": "2021-08-04T16:51:58.204547Z",
          "shell.execute_reply": "2021-08-04T16:51:58.409832Z"
        },
        "trusted": true,
        "colab": {
          "base_uri": "https://localhost:8080/"
        },
        "id": "hS_GFzFzjSM_",
        "outputId": "03659e16-331e-491e-d545-b3140df4c838"
      },
      "source": [
        "#checking for null values\n",
        "df.isnull().sum()"
      ],
      "execution_count": 9,
      "outputs": [
        {
          "output_type": "execute_result",
          "data": {
            "text/plain": [
              "Year               0\n",
              "Month              0\n",
              "day                0\n",
              "Country            0\n",
              "State            421\n",
              "Region             0\n",
              "City             434\n",
              "latitude        4556\n",
              "longitude       4557\n",
              "Attacktype         0\n",
              "kill           10313\n",
              "Wound          16311\n",
              "target1          636\n",
              "summary        66129\n",
              "Group              0\n",
              "Targettype         0\n",
              "Weapon             0\n",
              "motive        131130\n",
              "dtype: int64"
            ]
          },
          "metadata": {},
          "execution_count": 9
        }
      ]
    },
    {
      "cell_type": "code",
      "metadata": {
        "execution": {
          "iopub.status.busy": "2021-08-04T16:52:03.041801Z",
          "iopub.execute_input": "2021-08-04T16:52:03.042681Z",
          "iopub.status.idle": "2021-08-04T16:52:03.090445Z",
          "shell.execute_reply.started": "2021-08-04T16:52:03.042631Z",
          "shell.execute_reply": "2021-08-04T16:52:03.089614Z"
        },
        "trusted": true,
        "id": "RDT6rbssjSNI"
      },
      "source": [
        "#filling unknown where there is null value in state and city column \n",
        "df['State'].fillna(\"unknown\", inplace = True)\n",
        "df['City'].fillna(\"unknown\", inplace = True)"
      ],
      "execution_count": 11,
      "outputs": []
    },
    {
      "cell_type": "code",
      "metadata": {
        "id": "yfXIP5BMs755"
      },
      "source": [
        "df['Wound'] = df['Wound'].fillna(0).astype(int)\n",
        "df['kill'] = df['kill'].fillna(0).astype(int)\n",
        "df['casualities'] = df['kill'] + df['Wound']"
      ],
      "execution_count": 12,
      "outputs": []
    },
    {
      "cell_type": "code",
      "metadata": {
        "colab": {
          "base_uri": "https://localhost:8080/"
        },
        "id": "GsWu9LVot0ik",
        "outputId": "ddebda93-5dc3-47f8-fdb1-54f6204d0395"
      },
      "source": [
        "df.isnull().sum()"
      ],
      "execution_count": 13,
      "outputs": [
        {
          "output_type": "execute_result",
          "data": {
            "text/plain": [
              "Year                0\n",
              "Month               0\n",
              "day                 0\n",
              "Country             0\n",
              "State               0\n",
              "Region              0\n",
              "City                0\n",
              "latitude         4556\n",
              "longitude        4557\n",
              "Attacktype          0\n",
              "kill                0\n",
              "Wound               0\n",
              "target1           636\n",
              "summary         66129\n",
              "Group               0\n",
              "Targettype          0\n",
              "Weapon              0\n",
              "motive         131130\n",
              "casualities         0\n",
              "dtype: int64"
            ]
          },
          "metadata": {},
          "execution_count": 13
        }
      ]
    },
    {
      "cell_type": "code",
      "metadata": {
        "execution": {
          "iopub.status.busy": "2021-08-04T16:52:03.13083Z",
          "iopub.execute_input": "2021-08-04T16:52:03.131529Z",
          "iopub.status.idle": "2021-08-04T16:52:03.366732Z",
          "shell.execute_reply.started": "2021-08-04T16:52:03.131487Z",
          "shell.execute_reply": "2021-08-04T16:52:03.36562Z"
        },
        "trusted": true,
        "id": "Mf68x6V9jSNK"
      },
      "source": [
        "df.dropna(axis=1, inplace=True) # drop all other columns with null values "
      ],
      "execution_count": 14,
      "outputs": []
    },
    {
      "cell_type": "code",
      "metadata": {
        "execution": {
          "iopub.status.busy": "2021-08-04T16:52:03.368203Z",
          "iopub.execute_input": "2021-08-04T16:52:03.368542Z",
          "iopub.status.idle": "2021-08-04T16:52:03.392566Z",
          "shell.execute_reply.started": "2021-08-04T16:52:03.368508Z",
          "shell.execute_reply": "2021-08-04T16:52:03.391142Z"
        },
        "trusted": true,
        "colab": {
          "base_uri": "https://localhost:8080/",
          "height": 289
        },
        "id": "GWxTQSJsjSNM",
        "outputId": "f2931f23-48d4-4d5e-c1e3-633e6a5c44e3"
      },
      "source": [
        "df.head()"
      ],
      "execution_count": 15,
      "outputs": [
        {
          "output_type": "execute_result",
          "data": {
            "text/html": [
              "<div>\n",
              "<style scoped>\n",
              "    .dataframe tbody tr th:only-of-type {\n",
              "        vertical-align: middle;\n",
              "    }\n",
              "\n",
              "    .dataframe tbody tr th {\n",
              "        vertical-align: top;\n",
              "    }\n",
              "\n",
              "    .dataframe thead th {\n",
              "        text-align: right;\n",
              "    }\n",
              "</style>\n",
              "<table border=\"1\" class=\"dataframe\">\n",
              "  <thead>\n",
              "    <tr style=\"text-align: right;\">\n",
              "      <th></th>\n",
              "      <th>Year</th>\n",
              "      <th>Month</th>\n",
              "      <th>day</th>\n",
              "      <th>Country</th>\n",
              "      <th>State</th>\n",
              "      <th>Region</th>\n",
              "      <th>City</th>\n",
              "      <th>Attacktype</th>\n",
              "      <th>kill</th>\n",
              "      <th>Wound</th>\n",
              "      <th>Group</th>\n",
              "      <th>Targettype</th>\n",
              "      <th>Weapon</th>\n",
              "      <th>casualities</th>\n",
              "    </tr>\n",
              "  </thead>\n",
              "  <tbody>\n",
              "    <tr>\n",
              "      <th>0</th>\n",
              "      <td>1970</td>\n",
              "      <td>7</td>\n",
              "      <td>2</td>\n",
              "      <td>Dominican Republic</td>\n",
              "      <td>unknown</td>\n",
              "      <td>Central America &amp; Caribbean</td>\n",
              "      <td>Santo Domingo</td>\n",
              "      <td>Assassination</td>\n",
              "      <td>1</td>\n",
              "      <td>0</td>\n",
              "      <td>MANO-D</td>\n",
              "      <td>Private Citizens &amp; Property</td>\n",
              "      <td>Unknown</td>\n",
              "      <td>1</td>\n",
              "    </tr>\n",
              "    <tr>\n",
              "      <th>1</th>\n",
              "      <td>1970</td>\n",
              "      <td>0</td>\n",
              "      <td>0</td>\n",
              "      <td>Mexico</td>\n",
              "      <td>Federal</td>\n",
              "      <td>North America</td>\n",
              "      <td>Mexico city</td>\n",
              "      <td>Hostage Taking (Kidnapping)</td>\n",
              "      <td>0</td>\n",
              "      <td>0</td>\n",
              "      <td>23rd of September Communist League</td>\n",
              "      <td>Government (Diplomatic)</td>\n",
              "      <td>Unknown</td>\n",
              "      <td>0</td>\n",
              "    </tr>\n",
              "    <tr>\n",
              "      <th>2</th>\n",
              "      <td>1970</td>\n",
              "      <td>1</td>\n",
              "      <td>0</td>\n",
              "      <td>Philippines</td>\n",
              "      <td>Tarlac</td>\n",
              "      <td>Southeast Asia</td>\n",
              "      <td>Unknown</td>\n",
              "      <td>Assassination</td>\n",
              "      <td>1</td>\n",
              "      <td>0</td>\n",
              "      <td>Unknown</td>\n",
              "      <td>Journalists &amp; Media</td>\n",
              "      <td>Unknown</td>\n",
              "      <td>1</td>\n",
              "    </tr>\n",
              "    <tr>\n",
              "      <th>3</th>\n",
              "      <td>1970</td>\n",
              "      <td>1</td>\n",
              "      <td>0</td>\n",
              "      <td>Greece</td>\n",
              "      <td>Attica</td>\n",
              "      <td>Western Europe</td>\n",
              "      <td>Athens</td>\n",
              "      <td>Bombing/Explosion</td>\n",
              "      <td>0</td>\n",
              "      <td>0</td>\n",
              "      <td>Unknown</td>\n",
              "      <td>Government (Diplomatic)</td>\n",
              "      <td>Explosives</td>\n",
              "      <td>0</td>\n",
              "    </tr>\n",
              "    <tr>\n",
              "      <th>4</th>\n",
              "      <td>1970</td>\n",
              "      <td>1</td>\n",
              "      <td>0</td>\n",
              "      <td>Japan</td>\n",
              "      <td>Fukouka</td>\n",
              "      <td>East Asia</td>\n",
              "      <td>Fukouka</td>\n",
              "      <td>Facility/Infrastructure Attack</td>\n",
              "      <td>0</td>\n",
              "      <td>0</td>\n",
              "      <td>Unknown</td>\n",
              "      <td>Government (Diplomatic)</td>\n",
              "      <td>Incendiary</td>\n",
              "      <td>0</td>\n",
              "    </tr>\n",
              "  </tbody>\n",
              "</table>\n",
              "</div>"
            ],
            "text/plain": [
              "   Year  Month  day  ...                   Targettype      Weapon casualities\n",
              "0  1970      7    2  ...  Private Citizens & Property     Unknown           1\n",
              "1  1970      0    0  ...      Government (Diplomatic)     Unknown           0\n",
              "2  1970      1    0  ...          Journalists & Media     Unknown           1\n",
              "3  1970      1    0  ...      Government (Diplomatic)  Explosives           0\n",
              "4  1970      1    0  ...      Government (Diplomatic)  Incendiary           0\n",
              "\n",
              "[5 rows x 14 columns]"
            ]
          },
          "metadata": {},
          "execution_count": 15
        }
      ]
    },
    {
      "cell_type": "code",
      "metadata": {
        "execution": {
          "iopub.status.busy": "2021-08-04T16:52:03.3942Z",
          "iopub.execute_input": "2021-08-04T16:52:03.394562Z",
          "iopub.status.idle": "2021-08-04T16:52:03.469599Z",
          "shell.execute_reply.started": "2021-08-04T16:52:03.394528Z",
          "shell.execute_reply": "2021-08-04T16:52:03.46822Z"
        },
        "trusted": true,
        "colab": {
          "base_uri": "https://localhost:8080/",
          "height": 297
        },
        "id": "OJh347-bjSNQ",
        "outputId": "7abe2656-efcf-4f87-ea91-9cc39787fe92"
      },
      "source": [
        "df.describe()"
      ],
      "execution_count": 16,
      "outputs": [
        {
          "output_type": "execute_result",
          "data": {
            "text/html": [
              "<div>\n",
              "<style scoped>\n",
              "    .dataframe tbody tr th:only-of-type {\n",
              "        vertical-align: middle;\n",
              "    }\n",
              "\n",
              "    .dataframe tbody tr th {\n",
              "        vertical-align: top;\n",
              "    }\n",
              "\n",
              "    .dataframe thead th {\n",
              "        text-align: right;\n",
              "    }\n",
              "</style>\n",
              "<table border=\"1\" class=\"dataframe\">\n",
              "  <thead>\n",
              "    <tr style=\"text-align: right;\">\n",
              "      <th></th>\n",
              "      <th>Year</th>\n",
              "      <th>Month</th>\n",
              "      <th>day</th>\n",
              "      <th>kill</th>\n",
              "      <th>Wound</th>\n",
              "      <th>casualities</th>\n",
              "    </tr>\n",
              "  </thead>\n",
              "  <tbody>\n",
              "    <tr>\n",
              "      <th>count</th>\n",
              "      <td>181691.000000</td>\n",
              "      <td>181691.000000</td>\n",
              "      <td>181691.000000</td>\n",
              "      <td>181691.000000</td>\n",
              "      <td>181691.000000</td>\n",
              "      <td>181691.000000</td>\n",
              "    </tr>\n",
              "    <tr>\n",
              "      <th>mean</th>\n",
              "      <td>2002.638997</td>\n",
              "      <td>6.467277</td>\n",
              "      <td>15.505644</td>\n",
              "      <td>2.266860</td>\n",
              "      <td>2.883291</td>\n",
              "      <td>5.150151</td>\n",
              "    </tr>\n",
              "    <tr>\n",
              "      <th>std</th>\n",
              "      <td>13.259430</td>\n",
              "      <td>3.388303</td>\n",
              "      <td>8.814045</td>\n",
              "      <td>11.227057</td>\n",
              "      <td>34.309746</td>\n",
              "      <td>40.555414</td>\n",
              "    </tr>\n",
              "    <tr>\n",
              "      <th>min</th>\n",
              "      <td>1970.000000</td>\n",
              "      <td>0.000000</td>\n",
              "      <td>0.000000</td>\n",
              "      <td>0.000000</td>\n",
              "      <td>0.000000</td>\n",
              "      <td>0.000000</td>\n",
              "    </tr>\n",
              "    <tr>\n",
              "      <th>25%</th>\n",
              "      <td>1991.000000</td>\n",
              "      <td>4.000000</td>\n",
              "      <td>8.000000</td>\n",
              "      <td>0.000000</td>\n",
              "      <td>0.000000</td>\n",
              "      <td>0.000000</td>\n",
              "    </tr>\n",
              "    <tr>\n",
              "      <th>50%</th>\n",
              "      <td>2009.000000</td>\n",
              "      <td>6.000000</td>\n",
              "      <td>15.000000</td>\n",
              "      <td>0.000000</td>\n",
              "      <td>0.000000</td>\n",
              "      <td>1.000000</td>\n",
              "    </tr>\n",
              "    <tr>\n",
              "      <th>75%</th>\n",
              "      <td>2014.000000</td>\n",
              "      <td>9.000000</td>\n",
              "      <td>23.000000</td>\n",
              "      <td>2.000000</td>\n",
              "      <td>2.000000</td>\n",
              "      <td>4.000000</td>\n",
              "    </tr>\n",
              "    <tr>\n",
              "      <th>max</th>\n",
              "      <td>2017.000000</td>\n",
              "      <td>12.000000</td>\n",
              "      <td>31.000000</td>\n",
              "      <td>1570.000000</td>\n",
              "      <td>8191.000000</td>\n",
              "      <td>9574.000000</td>\n",
              "    </tr>\n",
              "  </tbody>\n",
              "</table>\n",
              "</div>"
            ],
            "text/plain": [
              "                Year          Month  ...          Wound    casualities\n",
              "count  181691.000000  181691.000000  ...  181691.000000  181691.000000\n",
              "mean     2002.638997       6.467277  ...       2.883291       5.150151\n",
              "std        13.259430       3.388303  ...      34.309746      40.555414\n",
              "min      1970.000000       0.000000  ...       0.000000       0.000000\n",
              "25%      1991.000000       4.000000  ...       0.000000       0.000000\n",
              "50%      2009.000000       6.000000  ...       0.000000       1.000000\n",
              "75%      2014.000000       9.000000  ...       2.000000       4.000000\n",
              "max      2017.000000      12.000000  ...    8191.000000    9574.000000\n",
              "\n",
              "[8 rows x 6 columns]"
            ]
          },
          "metadata": {},
          "execution_count": 16
        }
      ]
    },
    {
      "cell_type": "markdown",
      "metadata": {
        "id": "Yb5qMFedjSNQ"
      },
      "source": [
        "## DATA VISUALIZATION "
      ]
    },
    {
      "cell_type": "code",
      "metadata": {
        "colab": {
          "base_uri": "https://localhost:8080/"
        },
        "id": "n4-cSj1gpO71",
        "outputId": "c09a4c5d-4ddd-40fb-be14-b46d5d9bc601"
      },
      "source": [
        "print('Country with most attacks: ',df['Country'].value_counts().idxmax())\n",
        "print('City with most attacks: ',df['City'].value_counts().index[1])\n",
        "print(\"Region with the most attacks:\",df['Region'].value_counts().idxmax())\n",
        "print(\"Year with the most attacks:\",df['Year'].value_counts().idxmax())\n",
        "print(\"Month with the most attacks:\",df['Month'].value_counts().idxmax())\n",
        "print(\"Group with the most attacks:\",df['Group'].value_counts().index[1])\n",
        "print(\"Most Attack Types:\",df['Attacktype'].value_counts().idxmax())"
      ],
      "execution_count": 17,
      "outputs": [
        {
          "output_type": "stream",
          "name": "stdout",
          "text": [
            "Country with most attacks:  Iraq\n",
            "City with most attacks:  Baghdad\n",
            "Region with the most attacks: Middle East & North Africa\n",
            "Year with the most attacks: 2014\n",
            "Month with the most attacks: 5\n",
            "Group with the most attacks: Taliban\n",
            "Most Attack Types: Bombing/Explosion\n"
          ]
        }
      ]
    },
    {
      "cell_type": "code",
      "metadata": {
        "colab": {
          "base_uri": "https://localhost:8080/",
          "height": 420
        },
        "id": "n30GU6nTqQVu",
        "outputId": "f9cf6aff-cf12-47ce-c347-b5ae99c0d723"
      },
      "source": [
        "x_year = df['Year'].unique()\n",
        "y_year = df['Year'].value_counts(dropna=False).sort_index()\n",
        "plt.figure(figsize=(10,6))\n",
        "plt.title(\"Attack in Years\")\n",
        "plt.xlabel(\"Attack Years\")\n",
        "plt.ylabel(\"Number of attacks each year\")\n",
        "plt.xticks(rotation=90)\n",
        "sns.barplot(x=x_year, y=y_year, palette= 'rocket')\n",
        "plt.show()"
      ],
      "execution_count": 18,
      "outputs": [
        {
          "output_type": "display_data",
          "data": {
            "image/png": "[encoded data removed]",
            "text/plain": [
              "<Figure size 720x432 with 1 Axes>"
            ]
          },
          "metadata": {
            "needs_background": "light"
          }
        }
      ]
    },
    {
      "cell_type": "code",
      "metadata": {
        "execution": {
          "iopub.status.busy": "2021-08-04T16:52:03.470816Z",
          "iopub.execute_input": "2021-08-04T16:52:03.471121Z",
          "iopub.status.idle": "2021-08-04T16:52:03.97209Z",
          "shell.execute_reply.started": "2021-08-04T16:52:03.471093Z",
          "shell.execute_reply": "2021-08-04T16:52:03.970881Z"
        },
        "trusted": true,
        "colab": {
          "base_uri": "https://localhost:8080/",
          "height": 591
        },
        "id": "ItJFDD25jSNR",
        "outputId": "b85e7c01-4757-4adc-890c-131bc5c78a36"
      },
      "source": [
        "# country by attacks\n",
        "plt.rcParams[\"figure.figsize\"] = 10, 8\n",
        "sns.barplot(x = df[\"Country\"].value_counts()[:20].index, y=df[\"Country\"].value_counts()[:20].values)\n",
        "plt.ylabel(\"Number of Attacks\", fontsize=18)\n",
        "plt.xticks(rotation=90)\n",
        "plt.xlabel(\"Attack Region\", fontsize=18)\n",
        "plt.title(\"Country Attacks\");"
      ],
      "execution_count": 31,
      "outputs": [
        {
          "output_type": "display_data",
          "data": {
            "image/png": "[encoded data removed]",
            "text/plain": [
              "<Figure size 720x576 with 1 Axes>"
            ]
          },
          "metadata": {
            "needs_background": "light"
          }
        }
      ]
    },
    {
      "cell_type": "code",
      "metadata": {
        "execution": {
          "iopub.status.busy": "2021-08-04T16:52:04.296771Z",
          "iopub.execute_input": "2021-08-04T16:52:04.29718Z",
          "iopub.status.idle": "2021-08-04T16:52:04.884486Z",
          "shell.execute_reply.started": "2021-08-04T16:52:04.297146Z",
          "shell.execute_reply": "2021-08-04T16:52:04.882126Z"
        },
        "trusted": true,
        "colab": {
          "base_uri": "https://localhost:8080/",
          "height": 639
        },
        "id": "cUMNx4UdjSPh",
        "outputId": "0415b1a5-2abe-4aa7-b89b-3b7e8327e2b7"
      },
      "source": [
        "# Number of attacks over different regions\n",
        "pd.crosstab(df.Year, df.Region).plot(kind='area',stacked=False,figsize=(20,10))\n",
        "plt.title('Terrorist Activities By Region In Each Year',fontsize=25)\n",
        "plt.ylabel('No. of Attacks',fontsize=20)\n",
        "plt.xlabel(\"Year\",fontsize=20)\n",
        "plt.show()"
      ],
      "execution_count": 20,
      "outputs": [
        {
          "output_type": "display_data",
          "data": {
            "image/png": "[encoded data removed]",
            "text/plain": [
              "<Figure size 1440x720 with 1 Axes>"
            ]
          },
          "metadata": {
            "needs_background": "light"
          }
        }
      ]
    },
    {
      "cell_type": "code",
      "metadata": {
        "execution": {
          "iopub.status.busy": "2021-08-04T16:52:05.916823Z",
          "iopub.execute_input": "2021-08-04T16:52:05.917183Z",
          "iopub.status.idle": "2021-08-04T16:52:06.501101Z",
          "shell.execute_reply.started": "2021-08-04T16:52:05.91715Z",
          "shell.execute_reply": "2021-08-04T16:52:06.499955Z"
        },
        "trusted": true,
        "colab": {
          "base_uri": "https://localhost:8080/",
          "height": 946
        },
        "id": "B-kzJB8_jSQS",
        "outputId": "b03800f1-9785-41c5-e2db-d63205b0147c"
      },
      "source": [
        "# Attack groups attacked over different cities\n",
        "plt.rcParams[\"figure.figsize\"] = 15, 11\n",
        "sns.barplot(x = df[\"Group\"].value_counts()[:20].index, y=df[\"Group\"].value_counts()[:20].values)\n",
        "plt.ylabel(\"Total Attack\", fontsize=18)\n",
        "plt.xticks(rotation=90)\n",
        "plt.xlabel(\"Attack Group\", fontsize=18)\n",
        "plt.title(\"Attacks Group\", size=25, fontweight=\"bold\")"
      ],
      "execution_count": 21,
      "outputs": [
        {
          "output_type": "execute_result",
          "data": {
            "text/plain": [
              "Text(0.5, 1.0, 'Attacks Group')"
            ]
          },
          "metadata": {},
          "execution_count": 21
        },
        {
          "output_type": "display_data",
          "data": {
            "image/png": "[encoded data removed]",
            "text/plain": [
              "<Figure size 1080x792 with 1 Axes>"
            ]
          },
          "metadata": {
            "needs_background": "light"
          }
        }
      ]
    },
    {
      "cell_type": "code",
      "metadata": {
        "colab": {
          "base_uri": "https://localhost:8080/",
          "height": 545
        },
        "id": "q7iB-Y6xsDCX",
        "outputId": "4ce164c1-807e-4ccc-f11a-de0c03a03079"
      },
      "source": [
        "#Terrorist group names and killed each year\n",
        "group_killed= df[['Group','kill']].groupby(['Group'],axis=0).sum().sort_values('kill', ascending=False).head(15)\n",
        "group_killed"
      ],
      "execution_count": 22,
      "outputs": [
        {
          "output_type": "execute_result",
          "data": {
            "text/html": [
              "<div>\n",
              "<style scoped>\n",
              "    .dataframe tbody tr th:only-of-type {\n",
              "        vertical-align: middle;\n",
              "    }\n",
              "\n",
              "    .dataframe tbody tr th {\n",
              "        vertical-align: top;\n",
              "    }\n",
              "\n",
              "    .dataframe thead th {\n",
              "        text-align: right;\n",
              "    }\n",
              "</style>\n",
              "<table border=\"1\" class=\"dataframe\">\n",
              "  <thead>\n",
              "    <tr style=\"text-align: right;\">\n",
              "      <th></th>\n",
              "      <th>kill</th>\n",
              "    </tr>\n",
              "    <tr>\n",
              "      <th>Group</th>\n",
              "      <th></th>\n",
              "    </tr>\n",
              "  </thead>\n",
              "  <tbody>\n",
              "    <tr>\n",
              "      <th>Unknown</th>\n",
              "      <td>112367</td>\n",
              "    </tr>\n",
              "    <tr>\n",
              "      <th>Islamic State of Iraq and the Levant (ISIL)</th>\n",
              "      <td>38923</td>\n",
              "    </tr>\n",
              "    <tr>\n",
              "      <th>Taliban</th>\n",
              "      <td>29410</td>\n",
              "    </tr>\n",
              "    <tr>\n",
              "      <th>Boko Haram</th>\n",
              "      <td>20328</td>\n",
              "    </tr>\n",
              "    <tr>\n",
              "      <th>Shining Path (SL)</th>\n",
              "      <td>11601</td>\n",
              "    </tr>\n",
              "    <tr>\n",
              "      <th>Liberation Tigers of Tamil Eelam (LTTE)</th>\n",
              "      <td>10989</td>\n",
              "    </tr>\n",
              "    <tr>\n",
              "      <th>Al-Shabaab</th>\n",
              "      <td>9330</td>\n",
              "    </tr>\n",
              "    <tr>\n",
              "      <th>Farabundo Marti National Liberation Front (FMLN)</th>\n",
              "      <td>8065</td>\n",
              "    </tr>\n",
              "    <tr>\n",
              "      <th>Nicaraguan Democratic Force (FDN)</th>\n",
              "      <td>6662</td>\n",
              "    </tr>\n",
              "    <tr>\n",
              "      <th>Tehrik-i-Taliban Pakistan (TTP)</th>\n",
              "      <td>6042</td>\n",
              "    </tr>\n",
              "    <tr>\n",
              "      <th>Revolutionary Armed Forces of Colombia (FARC)</th>\n",
              "      <td>5661</td>\n",
              "    </tr>\n",
              "    <tr>\n",
              "      <th>Kurdistan Workers' Party (PKK)</th>\n",
              "      <td>4955</td>\n",
              "    </tr>\n",
              "    <tr>\n",
              "      <th>New People's Army (NPA)</th>\n",
              "      <td>4386</td>\n",
              "    </tr>\n",
              "    <tr>\n",
              "      <th>Al-Qaida in Iraq</th>\n",
              "      <td>4381</td>\n",
              "    </tr>\n",
              "    <tr>\n",
              "      <th>Hutu extremists</th>\n",
              "      <td>4102</td>\n",
              "    </tr>\n",
              "  </tbody>\n",
              "</table>\n",
              "</div>"
            ],
            "text/plain": [
              "                                                    kill\n",
              "Group                                                   \n",
              "Unknown                                           112367\n",
              "Islamic State of Iraq and the Levant (ISIL)        38923\n",
              "Taliban                                            29410\n",
              "Boko Haram                                         20328\n",
              "Shining Path (SL)                                  11601\n",
              "Liberation Tigers of Tamil Eelam (LTTE)            10989\n",
              "Al-Shabaab                                          9330\n",
              "Farabundo Marti National Liberation Front (FMLN)    8065\n",
              "Nicaraguan Democratic Force (FDN)                   6662\n",
              "Tehrik-i-Taliban Pakistan (TTP)                     6042\n",
              "Revolutionary Armed Forces of Colombia (FARC)       5661\n",
              "Kurdistan Workers' Party (PKK)                      4955\n",
              "New People's Army (NPA)                             4386\n",
              "Al-Qaida in Iraq                                    4381\n",
              "Hutu extremists                                     4102"
            ]
          },
          "metadata": {},
          "execution_count": 22
        }
      ]
    },
    {
      "cell_type": "code",
      "metadata": {
        "colab": {
          "base_uri": "https://localhost:8080/",
          "height": 575
        },
        "id": "qzTKivfvuQtK",
        "outputId": "bcf43bb5-2261-45d1-b6bf-422afc7ebef7"
      },
      "source": [
        "# People Killed by each group in terrorist activity\n",
        "plt.subplots(figsize=(12,6))\n",
        "sns.barplot(group_killed.index, group_killed.kill.values,palette=\"crest\")\n",
        "plt.title('Number of People Killed by each terroris group')\n",
        "plt.xlabel('Terrorist Groups')\n",
        "plt.ylabel('Number of people killed')\n",
        "plt.xticks(rotation= 45)\n",
        "plt.show()"
      ],
      "execution_count": 23,
      "outputs": [
        {
          "output_type": "display_data",
          "data": {
            "image/png": "[encoded data removed]",
            "text/plain": [
              "<Figure size 864x432 with 1 Axes>"
            ]
          },
          "metadata": {
            "needs_background": "light"
          }
        }
      ]
    },
    {
      "cell_type": "code",
      "metadata": {
        "execution": {
          "iopub.status.busy": "2021-08-04T16:52:06.503294Z",
          "iopub.execute_input": "2021-08-04T16:52:06.503772Z",
          "iopub.status.idle": "2021-08-04T16:52:07.339661Z",
          "shell.execute_reply.started": "2021-08-04T16:52:06.503722Z",
          "shell.execute_reply": "2021-08-04T16:52:07.338713Z"
        },
        "trusted": true,
        "colab": {
          "base_uri": "https://localhost:8080/",
          "height": 655
        },
        "id": "JY_wPgjijSQT",
        "outputId": "f9938788-9a76-43d0-9913-b4c0ff572c43"
      },
      "source": [
        "#Deaths over the years\n",
        "ter_df = df[['Year','kill']].groupby(['Year']).sum()\n",
        "fig, ax4 = plt.subplots(figsize=(20,10))\n",
        "ter_df.plot(kind='bar',alpha=0.7,ax=ax4)\n",
        "plt.xticks(rotation = 50)\n",
        "plt.title(\"People Died Due To Attack\",fontsize=25)\n",
        "plt.ylabel(\"Number of killed peope\",fontsize=20)\n",
        "plt.xlabel('Year',fontsize=20)\n",
        "top_side = ax4.spines[\"top\"]\n",
        "top_side.set_visible(False)\n",
        "right_side = ax4.spines[\"right\"]\n",
        "right_side.set_visible(False)"
      ],
      "execution_count": 25,
      "outputs": [
        {
          "output_type": "display_data",
          "data": {
            "image/png": "[encoded data removed]",
            "text/plain": [
              "<Figure size 1440x720 with 1 Axes>"
            ]
          },
          "metadata": {
            "needs_background": "light"
          }
        }
      ]
    },
    {
      "cell_type": "code",
      "metadata": {
        "execution": {
          "iopub.status.busy": "2021-08-04T16:52:07.34108Z",
          "iopub.execute_input": "2021-08-04T16:52:07.341425Z",
          "iopub.status.idle": "2021-08-04T16:52:07.633644Z",
          "shell.execute_reply.started": "2021-08-04T16:52:07.341393Z",
          "shell.execute_reply": "2021-08-04T16:52:07.6326Z"
        },
        "trusted": true,
        "colab": {
          "base_uri": "https://localhost:8080/",
          "height": 765
        },
        "id": "RE_YL29GjSQg",
        "outputId": "61450a8d-8ef0-4ad2-908d-58cf8ccb58f8"
      },
      "source": [
        "# Number of people killed with the type of attack\n",
        "df[['Attacktype','kill']].groupby([\"Attacktype\"],axis=0).sum().plot(kind='bar',figsize=(20,10),color=['darkslateblue'])\n",
        "plt.xticks(rotation=50)\n",
        "plt.title(\"Number of killed \",fontsize=20)\n",
        "plt.ylabel('Number of people',fontsize=15)\n",
        "plt.xlabel('Attack type',fontsize=15)\n",
        "plt.show()"
      ],
      "execution_count": 26,
      "outputs": [
        {
          "output_type": "display_data",
          "data": {
            "image/png": "[encoded data removed]",
            "text/plain": [
              "<Figure size 1440x720 with 1 Axes>"
            ]
          },
          "metadata": {
            "needs_background": "light"
          }
        }
      ]
    },
    {
      "cell_type": "code",
      "metadata": {
        "execution": {
          "iopub.status.busy": "2021-08-04T16:52:07.635044Z",
          "iopub.execute_input": "2021-08-04T16:52:07.63538Z",
          "iopub.status.idle": "2021-08-04T16:52:07.718538Z",
          "shell.execute_reply.started": "2021-08-04T16:52:07.635346Z",
          "shell.execute_reply": "2021-08-04T16:52:07.717276Z"
        },
        "trusted": true,
        "colab": {
          "base_uri": "https://localhost:8080/",
          "height": 359
        },
        "id": "8N6dx9z6jSQj",
        "outputId": "c2f594b8-4fe8-4973-9e7c-d1e002dc919a"
      },
      "source": [
        "# Number of people killed by each terrorist group in each country.\n",
        "t_df=df[['Group','Country','kill']]\n",
        "t_df=t_df.groupby(['Group','Country'],axis=0).sum().sort_values('kill',ascending=False).drop('Unknown').reset_index().head(10)\n",
        "t_df"
      ],
      "execution_count": 27,
      "outputs": [
        {
          "output_type": "execute_result",
          "data": {
            "text/html": [
              "<div>\n",
              "<style scoped>\n",
              "    .dataframe tbody tr th:only-of-type {\n",
              "        vertical-align: middle;\n",
              "    }\n",
              "\n",
              "    .dataframe tbody tr th {\n",
              "        vertical-align: top;\n",
              "    }\n",
              "\n",
              "    .dataframe thead th {\n",
              "        text-align: right;\n",
              "    }\n",
              "</style>\n",
              "<table border=\"1\" class=\"dataframe\">\n",
              "  <thead>\n",
              "    <tr style=\"text-align: right;\">\n",
              "      <th></th>\n",
              "      <th>Group</th>\n",
              "      <th>Country</th>\n",
              "      <th>kill</th>\n",
              "    </tr>\n",
              "  </thead>\n",
              "  <tbody>\n",
              "    <tr>\n",
              "      <th>0</th>\n",
              "      <td>Islamic State of Iraq and the Levant (ISIL)</td>\n",
              "      <td>Iraq</td>\n",
              "      <td>31058</td>\n",
              "    </tr>\n",
              "    <tr>\n",
              "      <th>1</th>\n",
              "      <td>Taliban</td>\n",
              "      <td>Afghanistan</td>\n",
              "      <td>29269</td>\n",
              "    </tr>\n",
              "    <tr>\n",
              "      <th>2</th>\n",
              "      <td>Boko Haram</td>\n",
              "      <td>Nigeria</td>\n",
              "      <td>16917</td>\n",
              "    </tr>\n",
              "    <tr>\n",
              "      <th>3</th>\n",
              "      <td>Shining Path (SL)</td>\n",
              "      <td>Peru</td>\n",
              "      <td>11595</td>\n",
              "    </tr>\n",
              "    <tr>\n",
              "      <th>4</th>\n",
              "      <td>Liberation Tigers of Tamil Eelam (LTTE)</td>\n",
              "      <td>Sri Lanka</td>\n",
              "      <td>10928</td>\n",
              "    </tr>\n",
              "    <tr>\n",
              "      <th>5</th>\n",
              "      <td>Al-Shabaab</td>\n",
              "      <td>Somalia</td>\n",
              "      <td>8176</td>\n",
              "    </tr>\n",
              "    <tr>\n",
              "      <th>6</th>\n",
              "      <td>Farabundo Marti National Liberation Front (FMLN)</td>\n",
              "      <td>El Salvador</td>\n",
              "      <td>8019</td>\n",
              "    </tr>\n",
              "    <tr>\n",
              "      <th>7</th>\n",
              "      <td>Islamic State of Iraq and the Levant (ISIL)</td>\n",
              "      <td>Syria</td>\n",
              "      <td>6883</td>\n",
              "    </tr>\n",
              "    <tr>\n",
              "      <th>8</th>\n",
              "      <td>Nicaraguan Democratic Force (FDN)</td>\n",
              "      <td>Nicaragua</td>\n",
              "      <td>6630</td>\n",
              "    </tr>\n",
              "    <tr>\n",
              "      <th>9</th>\n",
              "      <td>Tehrik-i-Taliban Pakistan (TTP)</td>\n",
              "      <td>Pakistan</td>\n",
              "      <td>6014</td>\n",
              "    </tr>\n",
              "  </tbody>\n",
              "</table>\n",
              "</div>"
            ],
            "text/plain": [
              "                                              Group      Country   kill\n",
              "0       Islamic State of Iraq and the Levant (ISIL)         Iraq  31058\n",
              "1                                           Taliban  Afghanistan  29269\n",
              "2                                        Boko Haram      Nigeria  16917\n",
              "3                                 Shining Path (SL)         Peru  11595\n",
              "4           Liberation Tigers of Tamil Eelam (LTTE)    Sri Lanka  10928\n",
              "5                                        Al-Shabaab      Somalia   8176\n",
              "6  Farabundo Marti National Liberation Front (FMLN)  El Salvador   8019\n",
              "7       Islamic State of Iraq and the Levant (ISIL)        Syria   6883\n",
              "8                 Nicaraguan Democratic Force (FDN)    Nicaragua   6630\n",
              "9                   Tehrik-i-Taliban Pakistan (TTP)     Pakistan   6014"
            ]
          },
          "metadata": {},
          "execution_count": 27
        }
      ]
    },
    {
      "cell_type": "code",
      "metadata": {
        "execution": {
          "iopub.status.busy": "2021-08-04T16:52:07.720154Z",
          "iopub.execute_input": "2021-08-04T16:52:07.720569Z",
          "iopub.status.idle": "2021-08-04T16:52:07.770804Z",
          "shell.execute_reply.started": "2021-08-04T16:52:07.720522Z",
          "shell.execute_reply": "2021-08-04T16:52:07.769452Z"
        },
        "trusted": true,
        "colab": {
          "base_uri": "https://localhost:8080/",
          "height": 97
        },
        "id": "UoTHbG9xjSQj",
        "outputId": "f6e2ab93-ae81-4c35-f9da-5f86006bcf8a"
      },
      "source": [
        "#Total number of various terror attacks\n",
        "typeKill = df.pivot_table(columns='Attacktype', values='kill', aggfunc='sum')\n",
        "typeKill"
      ],
      "execution_count": 29,
      "outputs": [
        {
          "output_type": "execute_result",
          "data": {
            "text/html": [
              "<div>\n",
              "<style scoped>\n",
              "    .dataframe tbody tr th:only-of-type {\n",
              "        vertical-align: middle;\n",
              "    }\n",
              "\n",
              "    .dataframe tbody tr th {\n",
              "        vertical-align: top;\n",
              "    }\n",
              "\n",
              "    .dataframe thead th {\n",
              "        text-align: right;\n",
              "    }\n",
              "</style>\n",
              "<table border=\"1\" class=\"dataframe\">\n",
              "  <thead>\n",
              "    <tr style=\"text-align: right;\">\n",
              "      <th>Attacktype</th>\n",
              "      <th>Armed Assault</th>\n",
              "      <th>Assassination</th>\n",
              "      <th>Bombing/Explosion</th>\n",
              "      <th>Facility/Infrastructure Attack</th>\n",
              "      <th>Hijacking</th>\n",
              "      <th>Hostage Taking (Barricade Incident)</th>\n",
              "      <th>Hostage Taking (Kidnapping)</th>\n",
              "      <th>Unarmed Assault</th>\n",
              "      <th>Unknown</th>\n",
              "    </tr>\n",
              "  </thead>\n",
              "  <tbody>\n",
              "    <tr>\n",
              "      <th>kill</th>\n",
              "      <td>160297</td>\n",
              "      <td>24920</td>\n",
              "      <td>157321</td>\n",
              "      <td>3642</td>\n",
              "      <td>3718</td>\n",
              "      <td>4478</td>\n",
              "      <td>24231</td>\n",
              "      <td>880</td>\n",
              "      <td>32381</td>\n",
              "    </tr>\n",
              "  </tbody>\n",
              "</table>\n",
              "</div>"
            ],
            "text/plain": [
              "Attacktype  Armed Assault  Assassination  ...  Unarmed Assault  Unknown\n",
              "kill               160297          24920  ...              880    32381\n",
              "\n",
              "[1 rows x 9 columns]"
            ]
          },
          "metadata": {},
          "execution_count": 29
        }
      ]
    },
    {
      "cell_type": "code",
      "metadata": {
        "execution": {
          "iopub.status.busy": "2021-08-04T16:52:07.772719Z",
          "iopub.execute_input": "2021-08-04T16:52:07.773156Z",
          "iopub.status.idle": "2021-08-04T16:52:07.832817Z",
          "shell.execute_reply.started": "2021-08-04T16:52:07.77312Z",
          "shell.execute_reply": "2021-08-04T16:52:07.831377Z"
        },
        "trusted": true,
        "colab": {
          "base_uri": "https://localhost:8080/",
          "height": 197
        },
        "id": "qJee-Cu6jSQk",
        "outputId": "72057b98-6104-440d-e340-948b331e0a09"
      },
      "source": [
        "#Total number of persons killed by terror attacks per country\n",
        "countryKill = df.pivot_table(columns='Country', values='kill', aggfunc='sum')\n",
        "countryKill"
      ],
      "execution_count": 30,
      "outputs": [
        {
          "output_type": "execute_result",
          "data": {
            "text/html": [
              "<div>\n",
              "<style scoped>\n",
              "    .dataframe tbody tr th:only-of-type {\n",
              "        vertical-align: middle;\n",
              "    }\n",
              "\n",
              "    .dataframe tbody tr th {\n",
              "        vertical-align: top;\n",
              "    }\n",
              "\n",
              "    .dataframe thead th {\n",
              "        text-align: right;\n",
              "    }\n",
              "</style>\n",
              "<table border=\"1\" class=\"dataframe\">\n",
              "  <thead>\n",
              "    <tr style=\"text-align: right;\">\n",
              "      <th>Country</th>\n",
              "      <th>Afghanistan</th>\n",
              "      <th>Albania</th>\n",
              "      <th>Algeria</th>\n",
              "      <th>Andorra</th>\n",
              "      <th>Angola</th>\n",
              "      <th>Antigua and Barbuda</th>\n",
              "      <th>Argentina</th>\n",
              "      <th>Armenia</th>\n",
              "      <th>Australia</th>\n",
              "      <th>Austria</th>\n",
              "      <th>Azerbaijan</th>\n",
              "      <th>Bahamas</th>\n",
              "      <th>Bahrain</th>\n",
              "      <th>Bangladesh</th>\n",
              "      <th>Barbados</th>\n",
              "      <th>Belarus</th>\n",
              "      <th>Belgium</th>\n",
              "      <th>Belize</th>\n",
              "      <th>Benin</th>\n",
              "      <th>Bhutan</th>\n",
              "      <th>Bolivia</th>\n",
              "      <th>Bosnia-Herzegovina</th>\n",
              "      <th>Botswana</th>\n",
              "      <th>Brazil</th>\n",
              "      <th>Brunei</th>\n",
              "      <th>Bulgaria</th>\n",
              "      <th>Burkina Faso</th>\n",
              "      <th>Burundi</th>\n",
              "      <th>Cambodia</th>\n",
              "      <th>Cameroon</th>\n",
              "      <th>Canada</th>\n",
              "      <th>Central African Republic</th>\n",
              "      <th>Chad</th>\n",
              "      <th>Chile</th>\n",
              "      <th>China</th>\n",
              "      <th>Colombia</th>\n",
              "      <th>Comoros</th>\n",
              "      <th>Costa Rica</th>\n",
              "      <th>Croatia</th>\n",
              "      <th>Cuba</th>\n",
              "      <th>...</th>\n",
              "      <th>Soviet Union</th>\n",
              "      <th>Spain</th>\n",
              "      <th>Sri Lanka</th>\n",
              "      <th>St. Kitts and Nevis</th>\n",
              "      <th>St. Lucia</th>\n",
              "      <th>Sudan</th>\n",
              "      <th>Suriname</th>\n",
              "      <th>Swaziland</th>\n",
              "      <th>Sweden</th>\n",
              "      <th>Switzerland</th>\n",
              "      <th>Syria</th>\n",
              "      <th>Taiwan</th>\n",
              "      <th>Tajikistan</th>\n",
              "      <th>Tanzania</th>\n",
              "      <th>Thailand</th>\n",
              "      <th>Togo</th>\n",
              "      <th>Trinidad and Tobago</th>\n",
              "      <th>Tunisia</th>\n",
              "      <th>Turkey</th>\n",
              "      <th>Turkmenistan</th>\n",
              "      <th>Uganda</th>\n",
              "      <th>Ukraine</th>\n",
              "      <th>United Arab Emirates</th>\n",
              "      <th>United Kingdom</th>\n",
              "      <th>United States</th>\n",
              "      <th>Uruguay</th>\n",
              "      <th>Uzbekistan</th>\n",
              "      <th>Vanuatu</th>\n",
              "      <th>Vatican City</th>\n",
              "      <th>Venezuela</th>\n",
              "      <th>Vietnam</th>\n",
              "      <th>Wallis and Futuna</th>\n",
              "      <th>West Bank and Gaza Strip</th>\n",
              "      <th>West Germany (FRG)</th>\n",
              "      <th>Western Sahara</th>\n",
              "      <th>Yemen</th>\n",
              "      <th>Yugoslavia</th>\n",
              "      <th>Zaire</th>\n",
              "      <th>Zambia</th>\n",
              "      <th>Zimbabwe</th>\n",
              "    </tr>\n",
              "  </thead>\n",
              "  <tbody>\n",
              "    <tr>\n",
              "      <th>kill</th>\n",
              "      <td>39384</td>\n",
              "      <td>42</td>\n",
              "      <td>11066</td>\n",
              "      <td>0</td>\n",
              "      <td>3043</td>\n",
              "      <td>0</td>\n",
              "      <td>490</td>\n",
              "      <td>37</td>\n",
              "      <td>23</td>\n",
              "      <td>30</td>\n",
              "      <td>258</td>\n",
              "      <td>1</td>\n",
              "      <td>44</td>\n",
              "      <td>1244</td>\n",
              "      <td>76</td>\n",
              "      <td>14</td>\n",
              "      <td>79</td>\n",
              "      <td>3</td>\n",
              "      <td>0</td>\n",
              "      <td>9</td>\n",
              "      <td>42</td>\n",
              "      <td>79</td>\n",
              "      <td>11</td>\n",
              "      <td>203</td>\n",
              "      <td>0</td>\n",
              "      <td>28</td>\n",
              "      <td>134</td>\n",
              "      <td>4205</td>\n",
              "      <td>543</td>\n",
              "      <td>2347</td>\n",
              "      <td>365</td>\n",
              "      <td>1990</td>\n",
              "      <td>1119</td>\n",
              "      <td>228</td>\n",
              "      <td>1008</td>\n",
              "      <td>14698</td>\n",
              "      <td>1</td>\n",
              "      <td>17</td>\n",
              "      <td>248</td>\n",
              "      <td>8</td>\n",
              "      <td>...</td>\n",
              "      <td>96</td>\n",
              "      <td>1288</td>\n",
              "      <td>15530</td>\n",
              "      <td>0</td>\n",
              "      <td>2</td>\n",
              "      <td>3883</td>\n",
              "      <td>29</td>\n",
              "      <td>6</td>\n",
              "      <td>22</td>\n",
              "      <td>74</td>\n",
              "      <td>15229</td>\n",
              "      <td>60</td>\n",
              "      <td>307</td>\n",
              "      <td>73</td>\n",
              "      <td>2742</td>\n",
              "      <td>76</td>\n",
              "      <td>6</td>\n",
              "      <td>351</td>\n",
              "      <td>6888</td>\n",
              "      <td>3</td>\n",
              "      <td>3065</td>\n",
              "      <td>2261</td>\n",
              "      <td>123</td>\n",
              "      <td>3410</td>\n",
              "      <td>3771</td>\n",
              "      <td>6</td>\n",
              "      <td>68</td>\n",
              "      <td>0</td>\n",
              "      <td>0</td>\n",
              "      <td>227</td>\n",
              "      <td>1</td>\n",
              "      <td>0</td>\n",
              "      <td>1500</td>\n",
              "      <td>97</td>\n",
              "      <td>1</td>\n",
              "      <td>8776</td>\n",
              "      <td>119</td>\n",
              "      <td>324</td>\n",
              "      <td>70</td>\n",
              "      <td>154</td>\n",
              "    </tr>\n",
              "  </tbody>\n",
              "</table>\n",
              "<p>1 rows × 205 columns</p>\n",
              "</div>"
            ],
            "text/plain": [
              "Country  Afghanistan  Albania  Algeria  ...  Zaire  Zambia  Zimbabwe\n",
              "kill           39384       42    11066  ...    324      70       154\n",
              "\n",
              "[1 rows x 205 columns]"
            ]
          },
          "metadata": {},
          "execution_count": 30
        }
      ]
    },
    {
      "cell_type": "markdown",
      "metadata": {
        "id": "z3T4YmrEjSQl"
      },
      "source": [
        "## Conclusion :\n",
        "\n",
        "- TOP 5 COUNTRIES AFFECTED TERRORISM :\n",
        "  - IRAQ\n",
        "  - PAKISTAN \n",
        "  - AFGHANISTAN \n",
        "  - INDIA\n",
        "  - COLUMBIA \n",
        "\n",
        "- Group with the most attacks: Taliban\n",
        "- Country with the most attacks: Iraq\n",
        "- City with the most attacks: Baghdad\n",
        "- Region with the most attacks: Middle East & North Africa\n",
        "- Year with the most attacks and most people killed : 2014\n",
        "- Month with the most attacks: May\n",
        "- Most Attack Types: Bombing/Explosion\n",
        "- country with maximum people killed in terror attack : Afghanistan \n",
        "- terror type which killed  the most : armed assault \n",
        "- HOTZONE OF TERRORISM: IRAQ"
      ]
    }
  ]
}